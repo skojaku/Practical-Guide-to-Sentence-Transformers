{
  "nbformat": 4,
  "nbformat_minor": 0,
  "metadata": {
    "colab": {
      "name": "Practical Guide to Sentence Transformers",
      "private_outputs": true,
      "provenance": [],
      "collapsed_sections": [],
      "authorship_tag": "ABX9TyOQ+5IMpKvx3QXrRz6iqTwb",
      "include_colab_link": true
    },
    "kernelspec": {
      "name": "python3",
      "display_name": "Python 3"
    },
    "language_info": {
      "name": "python"
    }
  },
  "cells": [
    {
      "cell_type": "markdown",
      "metadata": {
        "id": "view-in-github",
        "colab_type": "text"
      },
      "source": [
        "<a href=\"https://colab.research.google.com/github/skojaku/Practical-Guide-to-Sentence-Transformers/blob/main/notebook/Practical_Guide_to_Sentence_Transformers.ipynb\" target=\"_parent\"><img src=\"https://colab.research.google.com/assets/colab-badge.svg\" alt=\"Open In Colab\"/></a>"
      ]
    },
    {
      "cell_type": "markdown",
      "metadata": {
        "id": "G7Vl68CX6mwh"
      },
      "source": [
        "# **Tutorial: Practical Guide to Sentence Transformers**\n",
        "  _Monday, 29th Sep 2021_\n",
        "\n",
        "By Sadamori Kojaku.\n",
        "\n",
        "## References\n",
        "- *Paper*:\n",
        "Reimers, Nils, and Iryna Gurevych. 2019. “Sentence-BERT: Sentence Embeddings \n",
        "Using Siamese BERT-Networks.” EMNLP. arXiv [cs.CL]. arXiv. http://arxiv.org/abs/1908.10084.\n",
        "\n",
        "\n",
        "- *Library*:\n",
        "https://www.sbert.net/\n",
        "\n",
        "\n",
        "- *Video*:\n",
        "https://www.youtube.com/watch?v=Ey81KfQ3PQU"
      ]
    },
    {
      "cell_type": "markdown",
      "metadata": {
        "id": "K7nHP_Uv7Ugy"
      },
      "source": [
        "# **1. How to use sentence-transformer models**\n",
        "\n",
        "## **1.1. Setup**\n",
        "\n",
        "First, we need the following libraries to use the sentence BERT. \n",
        "\n",
        "- [transformers](https://huggingface.co/transformers/) provides a variety of pre-trained transformer-based models.\n",
        "- [sentence-transformer](https://www.sbert.net/index.html) provides a lightweight wrapper for transformers and training procedures."
      ]
    },
    {
      "cell_type": "code",
      "metadata": {
        "id": "neBL0sqqceM9"
      },
      "source": [
        "%%capture\n",
        "!pip install -U sentence-transformers datasets==1.9.0 transformers==4.9.0"
      ],
      "execution_count": null,
      "outputs": []
    },
    {
      "cell_type": "markdown",
      "metadata": {
        "id": "ANVzo3FL9gJd"
      },
      "source": [
        "After installing the libraries, we import the modules for loading sentence transformers."
      ]
    },
    {
      "cell_type": "code",
      "metadata": {
        "id": "ZOfeGp2Kcn7A"
      },
      "source": [
        "from sentence_transformers import SentenceTransformer"
      ],
      "execution_count": null,
      "outputs": []
    },
    {
      "cell_type": "markdown",
      "metadata": {
        "id": "GioGzK4t8EUo"
      },
      "source": [
        "## **1.2. Model**\n",
        "\n",
        "Next, we need to select the transformer-based model for embedding. There are more than 15,000 models, and what model to use is a critical modeling decision.\n",
        "\n",
        "The key feature of sentence-transformers is fine-tuning, i.e., they are trained such that ***sentence embeddings*** are useful, whereas pre-trained models are trained such that ***word embeddings*** are useful. The fine-tuned models can be downloaded from [sentence-transformers library](https://www.sbert.net/docs/pretrained_models.html). You can also use pre-trained models in [Hugging Face model hub](https://huggingface.co/models).\n",
        "\n",
        "As a demonstration of sentence-transformers, we use a fine-tuned model. The model is trained on various sentence pairs in Wikipedia, scientific papers, reviews, and Q&A websites. "
      ]
    },
    {
      "cell_type": "code",
      "metadata": {
        "id": "_UthTu4Mc9dp"
      },
      "source": [
        "MODEL_NAME = 'paraphrase-MiniLM-L6-v2'"
      ],
      "execution_count": null,
      "outputs": []
    },
    {
      "cell_type": "markdown",
      "metadata": {
        "id": "Ph6xR526_HUD"
      },
      "source": [
        "The model can be downloaded by"
      ]
    },
    {
      "cell_type": "code",
      "metadata": {
        "id": "FJ6dZp_-dIT_"
      },
      "source": [
        "model = SentenceTransformer(MODEL_NAME)\n",
        "#model = SentenceTransformer(MODEL_NAME, device = 0) # device = -1 == CPU, device = 0 == GPU"
      ],
      "execution_count": null,
      "outputs": []
    },
    {
      "cell_type": "markdown",
      "metadata": {
        "id": "n0PR6IBd_WvH"
      },
      "source": [
        "This method takes a list of sentences and produces an array of embedding (`numpy.ndarray`). Each row in the array is the embedding vector for a given sentence."
      ]
    },
    {
      "cell_type": "code",
      "metadata": {
        "id": "xqsSK_hbdK2a"
      },
      "source": [
        "sentences = [\n",
        "    \"This framework generates embeddings for each input sentence\",\n",
        "    \"Sentences are passed as a list of string.\",\n",
        "    \"The quick brown fox jumps over the lazy dog.\",\n",
        "]\n",
        "\n",
        "# Sentences are encoded by calling model.encode()\n",
        "embeddings = model.encode(sentences)\n",
        "\n",
        "# Print the embeddings\n",
        "for i, sentence in enumerate(sentences):\n",
        "    print(\"Sentence:\", sentence)\n",
        "    print(\"Embedding[:10]:\", embeddings[i, :10])\n",
        "    print(\"\")"
      ],
      "execution_count": null,
      "outputs": []
    },
    {
      "cell_type": "markdown",
      "metadata": {
        "id": "n9LUjzydahwW"
      },
      "source": [
        "## **1.3. Semantic search**\n",
        "\n",
        "A key feature of BERT is its ability to capture semantics. To demonstrate this, let us consider a basic NLP task: \n",
        "- You are given pairs of sentences, e.g., \"He likes eating noodles\", and \"His favorite food is noodles\".\n",
        "- You are asked to provide semantic relatedness of the given sentences. \n",
        "\n",
        "To calculate the semantic relatedness, we'll embed the given sentences and calculate the similarity.\n",
        "\n",
        "Let us consider the following sentence pairs in order of semantic relatedness. "
      ]
    },
    {
      "cell_type": "code",
      "metadata": {
        "id": "HI5HDrbwdG-V"
      },
      "source": [
        "sentence_pairs = [\n",
        "    [\n",
        "        \"The little bird is bathing in the sink.\",\n",
        "        \"Birdie is washing itself in the water basin.\",\n",
        "    ],\n",
        "    [\n",
        "        \"Two boys on a couch are playing video games.\",\n",
        "        \"Two boys are playing a video game.\",\n",
        "    ],\n",
        "    [\n",
        "        \"John said he is considered a witness but not suspect.\",\n",
        "        \"'He is not a suspect anymore', John said.\",\n",
        "    ],\n",
        "    [   \n",
        "        \"They flew out of the nest in groups.\", \n",
        "        \"They flew into the nest together.\"\n",
        "    ],\n",
        "    [\n",
        "        \"The woman is playing the violin.\",\n",
        "        \"The young lady enjoys listening to the guitar.\",\n",
        "    ],\n",
        "    [\n",
        "        \"The black dog is running through the snow.\",\n",
        "        \"A race car driver is driving his car through the mud.\",\n",
        "    ],\n",
        "]\n"
      ],
      "execution_count": null,
      "outputs": []
    },
    {
      "cell_type": "markdown",
      "metadata": {
        "id": "8_wXgzSHdb9I"
      },
      "source": [
        "The first sentence is semantically equivalent although no word except 'is' and 'in' are in common (and thus a very challenging example). The second sentence pair is also semantically very similar but some details are different. The last sentence pair is semantically different.\n",
        "\n",
        "Can the sentence-transformers really capture the semantic relatedness?"
      ]
    },
    {
      "cell_type": "code",
      "metadata": {
        "id": "OaAdkPWrdN_K"
      },
      "source": [
        "import numpy as np\n",
        "\n",
        "MODEL_NAME = 'paraphrase-MiniLM-L6-v2'\n",
        "\n",
        "model = SentenceTransformer(MODEL_NAME)\n",
        "\n",
        "def cosine_similarity_matrix(emb):\n",
        "  emb = np.einsum(\"ij,i->ij\", emb, 1 / np.linalg.norm(emb, axis = 1))\n",
        "  return emb @ emb.T\n",
        "\n",
        "for sentence_pair in sentence_pairs:\n",
        "  emb = model.encode(sentence_pair)\n",
        "  sim = cosine_similarity_matrix(emb)[0, 1]\n",
        "  print(\"sim = {sim:.2f}: '{sent1}' '{sent2}'\".format(sent1 = sentence_pair[0], sent2 = sentence_pair[1], sim = sim))"
      ],
      "execution_count": null,
      "outputs": []
    },
    {
      "cell_type": "markdown",
      "metadata": {
        "id": "YbQUkoYuemNF"
      },
      "source": [
        "The similarity for the first sentence is relatively high even though only two general words ('in' and 'is') are in common. The second to the fourth sentences have clearly higher similarity than those of semantically less related sentence pairs (the fifth and sixth). "
      ]
    },
    {
      "cell_type": "markdown",
      "metadata": {
        "id": "PphSc5Mc6kB1"
      },
      "source": [
        "## **1.4. Semantic search with pre-trained models**\n",
        "\n",
        "The `sentence-transformers` makes it easy for you to generate sentence embeddings with pre-trained models. \n",
        "Although pre-trained models are not trained for sentence embeddings, they would capture some aspects of semantic relatedness of words. With pre-trained models, the embedding for a sentence is calculated by the average of the embeddings of words in the sentence.\n",
        "\n",
        "Pre-trained models are sometimes useful because there are more than 15,000 pre-trained models trained for various tasks, whereas there are only less than 50 sentence-transformer models trained for some specific tasks. \n",
        "\n",
        "An example is sentiment analysis: given a sentence, decide whether or not the sentiment is positive or negative. As of 09/23/2021, there is no sentence-transformers model but numerous pre-trained models for sentiment analysis.\n",
        "\n",
        "Here, we use a model in [hugging models hub](https://huggingface.co/) for sentiment analysis. "
      ]
    },
    {
      "cell_type": "code",
      "metadata": {
        "id": "yacobsF7mnMI"
      },
      "source": [
        "PRE_TRAINED_MODEL_NAME = 'cardiffnlp/twitter-roberta-base-sentiment'"
      ],
      "execution_count": null,
      "outputs": []
    },
    {
      "cell_type": "code",
      "metadata": {
        "id": "DtsCWzHO7J0X"
      },
      "source": [
        "model = SentenceTransformer(PRE_TRAINED_MODEL_NAME)"
      ],
      "execution_count": null,
      "outputs": []
    },
    {
      "cell_type": "markdown",
      "metadata": {
        "id": "16imGSSUmqMz"
      },
      "source": [
        "Suppose that we have a list of sentences with different sentiments:"
      ]
    },
    {
      "cell_type": "code",
      "metadata": {
        "id": "dcTyZ2uAnPs6"
      },
      "source": [
        "sentences = [\n",
        "    \"I love you\",\n",
        "    \"I don't like you\",\n",
        "    \"I know you\",\n",
        "    \"I like you before and although you did something good to me, I hate you\",\n",
        "]"
      ],
      "execution_count": null,
      "outputs": []
    },
    {
      "cell_type": "markdown",
      "metadata": {
        "id": "y2fh2B21nQGL"
      },
      "source": [
        "Our task is that, given a query sentence, rank the sentences based on sentiment similarity:"
      ]
    },
    {
      "cell_type": "code",
      "metadata": {
        "id": "ZjFnO66gfojq"
      },
      "source": [
        "query = \"I like you\"  # Query sentence\n",
        "\n",
        "emb = model.encode([query] + sentences)\n",
        "sim = cosine_similarity_matrix(emb)[0, 1:]\n",
        "hits = np.argsort(-sim)\n",
        "for i in hits:\n",
        "    print(\"sim = {sim:.2f}: '{sent}'\".format(sent=sentences[i], sim=sim[i]))"
      ],
      "execution_count": null,
      "outputs": []
    },
    {
      "cell_type": "markdown",
      "metadata": {
        "id": "qZSvI2Kfn9H1"
      },
      "source": [
        "## **1.5. Interactive Hands-On**\n",
        "- With fine-tuned models\n",
        "  1. Go to the [sentence-transformers library](https://www.sbert.net/docs/pretrained_models.html) and find \"Model Overview\" section\n",
        "  2. Copy a model name into `MODEL_NAME`.\n",
        "  3. Adapt the text and make your first semantic search.\n",
        "- With pre-trained models \n",
        "  1. Go to the [Hugging Face model hub](https://huggingface.co/models) and click a model for text classification. \n",
        "  2. In the model card of a model, copy the model name at the top left and past it into `MODEL_NAME`.\n",
        "  3. Adapt the text and make your first semantic search."
      ]
    },
    {
      "cell_type": "code",
      "metadata": {
        "id": "RCQNWPzOpNUw"
      },
      "source": [
        "MODEL_NAME = \"\""
      ],
      "execution_count": null,
      "outputs": []
    },
    {
      "cell_type": "code",
      "metadata": {
        "id": "qC1RKHQFmora"
      },
      "source": [
        "sentences = []"
      ],
      "execution_count": null,
      "outputs": []
    },
    {
      "cell_type": "code",
      "metadata": {
        "id": "CaeBiXxppJiw"
      },
      "source": [
        "query = \"\"  # Query sentence\n",
        "\n",
        "model = SentenceTransformer(MODEL_NAME)\n",
        "\n",
        "emb = model.encode([query] + sentences)\n",
        "sim = cosine_similarity_matrix(emb)[0, 1:]\n",
        "hits = np.argsort(-sim)\n",
        "for i in hits:\n",
        "    print(\"sim = {sim:.2f}: '{sent}'\".format(sent=sentences[i], sim=sim[i]))"
      ],
      "execution_count": null,
      "outputs": []
    },
    {
      "cell_type": "markdown",
      "metadata": {
        "id": "CgHuFFmGqOHY"
      },
      "source": [
        "# **2. Fine-tuning models with your data**\n",
        "\n",
        "So far, we have used existing fine-tuned or pre-trained models trained with generic texts. However, we all have different problems, and thus often want to tailor the models with our data. In the following, we will walk through how to fine-tune transformer-based models using sentence-transformer architecture. "
      ]
    },
    {
      "cell_type": "markdown",
      "metadata": {
        "id": "onMUSzGJr4uH"
      },
      "source": [
        "## **2.1 Setup**\n",
        "\n",
        "To start, we need to import some libraries:"
      ]
    },
    {
      "cell_type": "code",
      "metadata": {
        "id": "qkGaqtHsr7lG"
      },
      "source": [
        "from sentence_transformers import (\n",
        "    InputExample,\n",
        "    SentencesDataset,\n",
        "    SentenceTransformer,\n",
        "    evaluation,\n",
        "    losses,\n",
        "    models,\n",
        ")\n",
        "from torch.utils.data import DataLoader"
      ],
      "execution_count": null,
      "outputs": []
    },
    {
      "cell_type": "markdown",
      "metadata": {
        "id": "ByIkIAgusRkG"
      },
      "source": [
        "## **2.2 Define a model**\n",
        "\n",
        "`sentence-transformers` library provides building blocks to define a model for sentence-transformers. Here, we construct a sentence-transformer model with a pre-trained model, `distilroberta-base`, and average pooling layer."
      ]
    },
    {
      "cell_type": "code",
      "metadata": {
        "id": "_xB78JbpsRDi"
      },
      "source": [
        "# Define the base model for word embeddings\n",
        "word_embedding_model = models.Transformer(\"distilroberta-base\", max_seq_length=512)\n",
        "\n",
        "# Define the pooling layer that aggregates word embeddings into a sentence embedding\n",
        "pooling_model = models.Pooling(\n",
        "    word_embedding_model.get_word_embedding_dimension(), pooling_mode=\"mean\"\n",
        ")\n",
        "\n",
        "# Construct a sentence transformer\n",
        "model = SentenceTransformer(\n",
        "    modules=[word_embedding_model, pooling_model],\n",
        "#   device=0,  # Set GPU device id if GPU is available\n",
        ")"
      ],
      "execution_count": null,
      "outputs": []
    },
    {
      "cell_type": "markdown",
      "metadata": {
        "id": "zx8bEGBCuBNE"
      },
      "source": [
        "##### **The followings are alternative model designs:**\n",
        "\n",
        "Model that produces unit-norm sentence embeddings:\n",
        "```python\n",
        "word_embedding_model = models.Transformer(\"distilroberta-base\", max_seq_length=512)\n",
        "pooling_model = models.Pooling(\n",
        "    word_embedding_model.get_word_embedding_dimension(), pooling_mode=\"mean\"\n",
        ")\n",
        "\n",
        "# This ensures the unit norm of the sentence embedding. \n",
        "normalize_model = models.Normalize()\n",
        "\n",
        "model = SentenceTransformer(\n",
        "    modules=[word_embedding_model, pooling_model, normalize_model],\n",
        "    device=-1\n",
        ")\n",
        "```\n",
        "\n",
        "Model that produces more compact sentence embeddings:\n",
        "```python\n",
        "word_embedding_model = models.Transformer(\"distilroberta-base\", max_seq_length=512)\n",
        "\n",
        "pooling_model = models.Pooling(\n",
        "    word_embedding_model.get_word_embedding_dimension(), pooling_mode=\"mean\"\n",
        ")\n",
        "\n",
        "# This reduces 768 dimensional embeddings to 256 dimensional embeddings. \n",
        "dense_model = models.Dense(in_features=pooling_model.get_sentence_embedding_dimension(), out_features=256, activation_function=nn.Tanh())\n",
        "\n",
        "model = SentenceTransformer(\n",
        "    modules=[word_embedding_model, pooling_model, dense_model],\n",
        "    device=-1\n",
        ")\n",
        "```"
      ]
    },
    {
      "cell_type": "markdown",
      "metadata": {
        "id": "ZY2OixvTvoRg"
      },
      "source": [
        "## **2.3 Training Data**\n",
        "\n",
        "\n",
        "To train the sentence-transformer, we need pairs of sentences that are semantically similar. The sentence pair should be wrapped with `InputExample`, and all pairs should be stored in `DataLoader`. For example, \n",
        "\n",
        "```python\n",
        "train_examples = [\n",
        "    InputExample(texts=[\"My first sentence\", \"My second sentence\"]),\n",
        "    InputExample(texts=[\"Another pair\", \"Related sentence\"]),\n",
        "]\n",
        "train_dataloader = DataLoader(train_examples, shuffle=True, batch_size=16)\n",
        "```\n",
        "\n",
        "As a toy example, here we use the title of Physics papers. This dataset consists of 5000 pairs of papers published from the American Physical Society journals. A paper `i` is paired with another paper `j` when `i` cites `j`. "
      ]
    },
    {
      "cell_type": "code",
      "metadata": {
        "id": "Kpurmm2KuL9u"
      },
      "source": [
        "import pandas as pd\n",
        "\n",
        "data_table = pd.read_csv('https://drive.google.com/uc?id=1FNh5zXL6KQpkV7f9WMm-0Yod09i-s5dI')\n",
        "data_table.head()"
      ],
      "execution_count": null,
      "outputs": []
    },
    {
      "cell_type": "code",
      "metadata": {
        "id": "TLhMWDgS1w0i"
      },
      "source": [
        "train_examples=[\n",
        "  InputExample(texts=[row[\"src\"], row[\"trg\"]]) for _, row in data_table.iterrows()\n",
        "]\n",
        "train_dataloader = DataLoader(train_examples, shuffle=True, batch_size=16)"
      ],
      "execution_count": null,
      "outputs": []
    },
    {
      "cell_type": "markdown",
      "metadata": {
        "id": "BEpL-LWNwKyP"
      },
      "source": [
        "## **2.4 Loss function**\n",
        "\n",
        "The loss function is by far the most critical for performance. There are several loss functions available in [sentence-transformers library](https://www.sbert.net/docs/package_reference/losses.html?highlight=loss%20functions). A common choice is *triplet loss*. See [this paper](https://arxiv.org/abs/1703.07737) for details.  \n",
        "\n",
        "Another important variable is the type of similarity for embeddings. Euclidean, dot-product, and cosine similarity are the commonly used metric for similarity. Here we use cosine similarity as a metric for similarity, which can be specified through `distance_metric` argument of the loss function. "
      ]
    },
    {
      "cell_type": "code",
      "metadata": {
        "id": "f80ff0KIxIrj"
      },
      "source": [
        "train_loss = losses.BatchSemiHardTripletLoss(\n",
        "    model=model,\n",
        "    distance_metric=losses.BatchHardTripletLossDistanceFunction.cosine_distance,\n",
        ")"
      ],
      "execution_count": null,
      "outputs": []
    },
    {
      "cell_type": "markdown",
      "metadata": {
        "id": "uUnJgUEEyD_O"
      },
      "source": [
        "## **2.5 Evaluator**\n",
        "\n",
        "The training usually takes some time, and we might want to monitor the learning progress. `evaluation` module contains various evaluators that measure the performance improvements during the training phase. See [here](https://www.sbert.net/docs/package_reference/evaluation.html?highlight=evaluators) for the available evaluators. \n",
        "\n"
      ]
    },
    {
      "cell_type": "code",
      "metadata": {
        "id": "CzD_ZKzpyDg0"
      },
      "source": [
        "# We will make two groups of sentece pairs, `pos_pairs` and `neg_pairs`.\n",
        "# `pos_pairs` is composed of sentences paired by citatons.\n",
        "pos_pairs = data_table.sample(frac = 0.1)\n",
        "pos_pairs[\"score\"] = 0 # group label\n",
        "\n",
        "# `neg_pairs` is composed of the pairs of randomly selected sentences.\n",
        "neg_pairs = data_table.copy()\n",
        "neg_pairs[\"trg\"] = neg_pairs[\"trg\"].sample(frac = 1).values\n",
        "neg_pairs = neg_pairs.sample(frac = 0.1)\n",
        "neg_pairs[\"score\"] = 0 # group label\n",
        "\n",
        "# Concatenate the pairs\n",
        "eval_data_table = pd.concat([pos_pairs, neg_pairs])\n",
        "\n",
        "# Set up the evaluator\n",
        "evaluator = evaluation.EmbeddingSimilarityEvaluator(\n",
        "    eval_data_table[\"src\"].values.tolist(), # sentence\n",
        "    eval_data_table[\"trg\"].values.tolist(), # sentence\n",
        "    scores=eval_data_table[\"score\"].values.tolist(), # similarity\n",
        "    show_progress_bar=True,\n",
        ")"
      ],
      "execution_count": null,
      "outputs": []
    },
    {
      "cell_type": "markdown",
      "metadata": {
        "id": "wjvEgdi3zkO0"
      },
      "source": [
        "Lastly, we need to set some parameters for training:"
      ]
    },
    {
      "cell_type": "code",
      "metadata": {
        "id": "NRPi89-Jzj0_"
      },
      "source": [
        "num_epochs = 4\n",
        "warmup_steps = 100\n",
        "evaluation_step = 1000\n",
        "model_save_path = \"model\""
      ],
      "execution_count": null,
      "outputs": []
    },
    {
      "cell_type": "markdown",
      "metadata": {
        "id": "4an59GHszYVo"
      },
      "source": [
        "All set. We can train the model by"
      ]
    },
    {
      "cell_type": "code",
      "metadata": {
        "id": "H4oCQr-Pzgvu"
      },
      "source": [
        "model.fit(\n",
        "    train_objectives=[(train_dataloader, train_loss)],\n",
        "    evaluator=evaluator,\n",
        "    epochs=num_epochs,\n",
        "    evaluation_steps=1000,\n",
        "    warmup_steps=warmup_steps,\n",
        "    output_path=model_save_path,\n",
        ")"
      ],
      "execution_count": null,
      "outputs": []
    }
  ]
}